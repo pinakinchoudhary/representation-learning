{
 "cells": [
  {
   "cell_type": "code",
   "execution_count": 10,
   "id": "0f375107",
   "metadata": {},
   "outputs": [],
   "source": [
    "import torch\n",
    "import torch.nn as nn\n",
    "import torch.nn.functional as F\n",
    "import torchvision\n",
    "from torchvision import transforms\n",
    "from torch.utils.data import DataLoader\n",
    "from torchdiffeq import odeint\n",
    "import os\n",
    "from tqdm import tqdm\n",
    "import matplotlib.pyplot as plt\n",
    "import json\n",
    "from datetime import datetime"
   ]
  },
  {
   "cell_type": "code",
   "execution_count": 11,
   "id": "4d052bf6",
   "metadata": {},
   "outputs": [],
   "source": [
    "# ================== Experiment Configuration ==================\n",
    "EXPERIMENT_NAME = \"exp3\"  # Change this for each experiment\n",
    "RESULTS_DIR = f\"results/{EXPERIMENT_NAME}\"\n",
    "os.makedirs(RESULTS_DIR, exist_ok=True)"
   ]
  },
  {
   "cell_type": "code",
   "execution_count": 12,
   "id": "9a3e9cc7",
   "metadata": {},
   "outputs": [],
   "source": [
    "# ================== Configuration Parameters ==================\n",
    "device = torch.device(\"cuda\" if torch.cuda.is_available() else \"cpu\")\n",
    "image_size = 32  # CIFAR-10 is 32x32\n",
    "channels = 3     # CIFAR-10 is RGB\n",
    "batch_size = 128\n",
    "num_classes = 10\n",
    "model_save_path = os.path.join(RESULTS_DIR, 'FMmodel.pth')"
   ]
  },
  {
   "cell_type": "code",
   "execution_count": 13,
   "id": "f1365f9e",
   "metadata": {},
   "outputs": [],
   "source": [
    "# Learning Rate\n",
    "lr = 1e-4\n",
    "\n",
    "# Number of Epochs\n",
    "epochs = 100\n",
    "\n",
    "# Model Size\n",
    "BASE_CHANNELS = 128\n",
    "\n",
    "# Time Embedding Dimension \n",
    "TIME_EMBED_DIM = 128\n",
    "\n",
    "# ODE Solver\n",
    "ODE_METHOD = 'dopri5'  \n",
    "\n",
    "# Number of ODE Steps \n",
    "ODE_STEPS = 50 \n",
    "\n",
    "# Loss Function: b/w u^target and u^theta\n",
    "LOSS_TYPE = 'huber'  # Huber Loss\n",
    "\n",
    "# Normalization \n",
    "NORM_TYPE = 'groupnorm'\n",
    "\n",
    "# Activation Function\n",
    "ACTIVATION = 'silu'\n",
    "\n",
    "# Optimizer \n",
    "OPTIMIZER_TYPE = 'adamw'\n",
    "\n",
    "# Save experiment config\n",
    "config = {\n",
    "    'experiment_name': EXPERIMENT_NAME,\n",
    "    'lr': lr,\n",
    "    'epochs': epochs,\n",
    "    'batch_size': batch_size,\n",
    "    'base_channels': BASE_CHANNELS,\n",
    "    'time_embed_dim': TIME_EMBED_DIM,\n",
    "    'ode_method': ODE_METHOD,\n",
    "    'ode_steps': ODE_STEPS,\n",
    "    'loss_type': LOSS_TYPE,\n",
    "    'norm_type': NORM_TYPE,\n",
    "    'activation': ACTIVATION,\n",
    "    'optimizer_type': OPTIMIZER_TYPE,\n",
    "    'image_size': image_size,\n",
    "    'channels': channels,\n",
    "    'device': str(device)\n",
    "}\n",
    "\n",
    "with open(os.path.join(RESULTS_DIR, 'config.json'), 'w') as f:\n",
    "    json.dump(config, f, indent=4)"
   ]
  },
  {
   "cell_type": "code",
   "execution_count": 14,
   "id": "0d287714",
   "metadata": {},
   "outputs": [],
   "source": [
    "# ================== Data Loading ==================\n",
    "def normalize_img(x):\n",
    "    \"\"\"Normalize image to [-1, 1]\"\"\"\n",
    "    return 2 * x - 1\n",
    "\n",
    "transform = transforms.Compose([\n",
    "    transforms.ToTensor(),\n",
    "    transforms.Lambda(normalize_img)\n",
    "])\n",
    "\n",
    "# ================== Helper Functions ==================\n",
    "def get_activation():\n",
    "    \"\"\"Return activation function based on config\"\"\"\n",
    "    if ACTIVATION == 'silu':\n",
    "        return F.silu\n",
    "    elif ACTIVATION == 'swiglu':\n",
    "        return SwiGLU()\n",
    "    elif ACTIVATION == 'gelu':\n",
    "        return F.gelu\n",
    "    else:\n",
    "        return F.silu\n",
    "\n",
    "def get_norm_layer(num_channels):\n",
    "    \"\"\"Return normalization layer based on config\"\"\"\n",
    "    if NORM_TYPE == 'groupnorm':\n",
    "        return nn.GroupNorm(min(32, num_channels), num_channels)\n",
    "    elif NORM_TYPE == 'batchnorm':\n",
    "        return nn.BatchNorm2d(num_channels)\n",
    "    elif NORM_TYPE == 'layernorm':\n",
    "        # For LayerNorm with images, normalize over C, H, W\n",
    "        return nn.GroupNorm(1, num_channels)\n",
    "    else:\n",
    "        return nn.GroupNorm(min(32, num_channels), num_channels)"
   ]
  },
  {
   "cell_type": "code",
   "execution_count": 15,
   "id": "2599d6b4",
   "metadata": {},
   "outputs": [],
   "source": [
    "# ================== Model Architecture ==================\n",
    "class ConditionedDoubleConv(nn.Module):\n",
    "    \"\"\"Double convolution module with condition injection\"\"\"\n",
    "    \n",
    "    def __init__(self, in_channels, out_channels, cond_dim):\n",
    "        super().__init__()\n",
    "        self.conv1 = nn.Conv2d(in_channels, out_channels, kernel_size=3, padding=1)\n",
    "        self.norm1 = get_norm_layer(out_channels)\n",
    "        self.conv2 = nn.Conv2d(out_channels + cond_dim, out_channels, kernel_size=3, padding=1)\n",
    "        self.norm2 = get_norm_layer(out_channels)\n",
    "        self.activation = get_activation()\n",
    "    \n",
    "    def forward(self, x, cond):\n",
    "        x = self.activation(self.norm1(self.conv1(x)))\n",
    "        cond = cond.expand(-1, -1, x.size(2), x.size(3))\n",
    "        x = torch.cat([x, cond], dim=1)\n",
    "        return self.activation(self.norm2(self.conv2(x)))\n",
    "\n",
    "\n",
    "class Down(nn.Module):\n",
    "    \"\"\"Downsampling module\"\"\"\n",
    "    \n",
    "    def __init__(self, in_channels, out_channels, cond_dim):\n",
    "        super().__init__()\n",
    "        self.maxpool = nn.MaxPool2d(2)\n",
    "        self.conv = ConditionedDoubleConv(in_channels, out_channels, cond_dim)\n",
    "    \n",
    "    def forward(self, x, cond):\n",
    "        x = self.maxpool(x)\n",
    "        return self.conv(x, cond)\n",
    "\n",
    "\n",
    "class Up(nn.Module):\n",
    "    \"\"\"Upsampling module\"\"\"\n",
    "    \n",
    "    def __init__(self, in_channels, out_channels, cond_dim):\n",
    "        super().__init__()\n",
    "        self.up = nn.Upsample(scale_factor=2, mode='bilinear', align_corners=True)\n",
    "        self.conv = ConditionedDoubleConv(in_channels, out_channels, cond_dim)\n",
    "    \n",
    "    def forward(self, x1, x2, cond):\n",
    "        x1 = self.up(x1)\n",
    "        diffY = x2.size()[2] - x1.size()[2]\n",
    "        diffX = x2.size()[3] - x1.size()[3]\n",
    "        x1 = F.pad(x1, [diffX // 2, diffX - diffX // 2,\n",
    "                        diffY // 2, diffY - diffY // 2])\n",
    "        x = torch.cat([x2, x1], dim=1)\n",
    "        return self.conv(x, cond)\n",
    "\n",
    "\n",
    "class ConditionalUNet(nn.Module):\n",
    "    \"\"\"Enhanced UNet for CIFAR-10\"\"\"\n",
    "    \n",
    "    def __init__(self):\n",
    "        super().__init__()\n",
    "        # Condition dimensions\n",
    "        self.label_dim = 32\n",
    "        self.cond_dim = TIME_EMBED_DIM + self.label_dim\n",
    "        \n",
    "        # Time embedding\n",
    "        self.time_embed = nn.Sequential(\n",
    "            nn.Linear(1, TIME_EMBED_DIM * 2),\n",
    "            nn.SiLU(),\n",
    "            nn.Linear(TIME_EMBED_DIM * 2, TIME_EMBED_DIM)\n",
    "        )\n",
    "        \n",
    "        # Label embedding\n",
    "        self.label_embed = nn.Embedding(num_classes, self.label_dim)\n",
    "        \n",
    "        # Encoder path (deeper for CIFAR-10)\n",
    "        self.inc = ConditionedDoubleConv(channels, BASE_CHANNELS, self.cond_dim)\n",
    "        self.down1 = Down(BASE_CHANNELS, BASE_CHANNELS * 2, self.cond_dim)\n",
    "        self.down2 = Down(BASE_CHANNELS * 2, BASE_CHANNELS * 4, self.cond_dim)\n",
    "        self.down3 = Down(BASE_CHANNELS * 4, BASE_CHANNELS * 8, self.cond_dim)\n",
    "        \n",
    "        # Decoder path\n",
    "        self.up1 = Up(BASE_CHANNELS * 8 + BASE_CHANNELS * 4, BASE_CHANNELS * 4, self.cond_dim)\n",
    "        self.up2 = Up(BASE_CHANNELS * 4 + BASE_CHANNELS * 2, BASE_CHANNELS * 2, self.cond_dim)\n",
    "        self.up3 = Up(BASE_CHANNELS * 2 + BASE_CHANNELS, BASE_CHANNELS, self.cond_dim)\n",
    "        self.outc = nn.Conv2d(BASE_CHANNELS, channels, kernel_size=1)\n",
    "    \n",
    "    def forward(self, x, t, labels):\n",
    "        # Condition encoding\n",
    "        t_emb = self.time_embed(t.view(-1, 1))\n",
    "        lbl_emb = self.label_embed(labels)\n",
    "        cond = torch.cat([t_emb, lbl_emb], dim=1)\n",
    "        cond = cond.unsqueeze(-1).unsqueeze(-1)\n",
    "        \n",
    "        # Encoder\n",
    "        x1 = self.inc(x, cond)\n",
    "        x2 = self.down1(x1, cond)\n",
    "        x3 = self.down2(x2, cond)\n",
    "        x4 = self.down3(x3, cond)\n",
    "        \n",
    "        # Decoder\n",
    "        x = self.up1(x4, x3, cond)\n",
    "        x = self.up2(x, x2, cond)\n",
    "        x = self.up3(x, x1, cond)\n",
    "        return self.outc(x)"
   ]
  },
  {
   "cell_type": "code",
   "execution_count": 16,
   "id": "593d9f75",
   "metadata": {},
   "outputs": [],
   "source": [
    "# ================== Training and Generation ==================\n",
    "model = ConditionalUNet().to(device)\n",
    "\n",
    "# Initialize optimizer based on config\n",
    "if OPTIMIZER_TYPE == 'adam':\n",
    "    optimizer = torch.optim.Adam(model.parameters(), lr=lr)\n",
    "elif OPTIMIZER_TYPE == 'adamw':\n",
    "    optimizer = torch.optim.AdamW(model.parameters(), lr=lr, weight_decay=0.01)\n",
    "elif OPTIMIZER_TYPE == 'sgd':\n",
    "    optimizer = torch.optim.SGD(model.parameters(), lr=lr, momentum=0.9)\n",
    "else:\n",
    "    optimizer = torch.optim.Adam(model.parameters(), lr=lr)\n",
    "\n",
    "\n",
    "def compute_loss(pred, target):\n",
    "    \"\"\"Compute loss based on config\"\"\"\n",
    "    if LOSS_TYPE == 'mse':\n",
    "        return F.mse_loss(pred, target)\n",
    "    elif LOSS_TYPE == 'l1':\n",
    "        return F.l1_loss(pred, target)\n",
    "    elif LOSS_TYPE == 'huber':\n",
    "        return F.huber_loss(pred, target)\n",
    "    else:\n",
    "        return F.mse_loss(pred, target)\n",
    "\n",
    "\n",
    "@torch.no_grad()\n",
    "def generate_with_label(label, num_samples=16):\n",
    "    \"\"\"Generate samples with specified label\"\"\"\n",
    "    current_model_state = model.training\n",
    "    model.eval()\n",
    "    \n",
    "    x0 = torch.randn(num_samples, channels, image_size, image_size, device=device)\n",
    "    labels = torch.full((num_samples,), label, device=device, dtype=torch.long)\n",
    "    \n",
    "    def ode_func(t: torch.Tensor, x: torch.Tensor):\n",
    "        t_expanded = t.expand(x.size(0))\n",
    "        vt = model(x, t_expanded, labels)\n",
    "        return vt\n",
    "    \n",
    "    # Use different time points based on ODE method\n",
    "    if ODE_METHOD in ['euler', 'rk4', 'midpoint']:\n",
    "        t_eval = torch.linspace(0.0, 1.0, ODE_STEPS + 1, device=device)\n",
    "    else:\n",
    "        t_eval = torch.tensor([0.0, 1.0], device=device)\n",
    "    \n",
    "    generated = odeint(\n",
    "        ode_func,\n",
    "        x0,\n",
    "        t_eval,\n",
    "        rtol=1e-5,\n",
    "        atol=1e-5,\n",
    "        method=ODE_METHOD\n",
    "    )\n",
    "    \n",
    "    model.train(current_model_state)\n",
    "    \n",
    "    images = (generated[-1].clamp(-1, 1) + 1) / 2\n",
    "    return images.cpu()\n",
    "\n",
    "\n",
    "def visualize_train(epoch):\n",
    "    \"\"\"Generate visualization grid\"\"\"\n",
    "    print(f\"Generating visualization for epoch {epoch}...\")\n",
    "    plt.figure(figsize=(12, 12))\n",
    "    plt.subplots_adjust(wspace=0.1, hspace=0.1)\n",
    "    \n",
    "    for label in range(num_classes):\n",
    "        generated_images = generate_with_label(label=label, num_samples=10)\n",
    "        \n",
    "        for i in range(10):\n",
    "            ax = plt.subplot(10, num_classes, (i * num_classes) + label + 1)\n",
    "            # Convert CHW to HWC for display\n",
    "            img = generated_images[i].permute(1, 2, 0).numpy()\n",
    "            plt.imshow(img, vmin=0, vmax=1)\n",
    "            ax.axis('off')\n",
    "            if i == 0:\n",
    "                ax.set_title(str(label), fontsize=14, pad=5)\n",
    "    \n",
    "    plt.suptitle(f\"Generated Samples - Epoch {epoch}\", fontsize=18, y=0.98)\n",
    "    plt.savefig(os.path.join(RESULTS_DIR, f\"epoch{epoch}.jpg\"), dpi=150, bbox_inches='tight')\n",
    "    plt.close()\n",
    "\n",
    "\n",
    "def generate_final_samples(num_sample=5):\n",
    "    \"\"\"Generate final sample grids\"\"\"\n",
    "    print(f\"Generating {num_sample} final sample grids...\")\n",
    "    \n",
    "    for k in range(num_sample):\n",
    "        plt.figure(figsize=(12, 12))\n",
    "        plt.subplots_adjust(wspace=0.1, hspace=0.1)\n",
    "        \n",
    "        print(f\"Generating grid {k + 1}/{num_sample}...\")\n",
    "        for label in tqdm(range(num_classes), desc=f\"Grid {k+1}\"):\n",
    "            generated_images = generate_with_label(label=label, num_samples=10)\n",
    "            \n",
    "            for i in range(10):\n",
    "                ax = plt.subplot(10, num_classes, (i * num_classes) + label + 1)\n",
    "                img = generated_images[i].permute(1, 2, 0).numpy()\n",
    "                plt.imshow(img, vmin=0, vmax=1)\n",
    "                ax.axis('off')\n",
    "                if i == 0:\n",
    "                    ax.set_title(str(label), fontsize=14, pad=5)\n",
    "        \n",
    "        plt.suptitle(f\"Final Generated Samples (Grid {k + 1})\", fontsize=18, y=0.98)\n",
    "        save_path = os.path.join(RESULTS_DIR, f\"generated_grid{k + 1}.jpg\")\n",
    "        plt.savefig(save_path, dpi=150, bbox_inches='tight')\n",
    "        print(f\"Saved: {save_path}\")\n",
    "        plt.close()"
   ]
  },
  {
   "cell_type": "code",
   "execution_count": 17,
   "id": "ce33ce9b",
   "metadata": {},
   "outputs": [],
   "source": [
    "def train(num_epochs=100):\n",
    "    \"\"\"Training loop with logging\"\"\"\n",
    "    print(f\"Starting training for experiment: {EXPERIMENT_NAME}\")\n",
    "    print(f\"Results will be saved to: {RESULTS_DIR}\")\n",
    "    print(f\"Configuration: {config}\")\n",
    "    \n",
    "    global train_loader\n",
    "    training_log = []\n",
    "    \n",
    "    for epoch in range(num_epochs):\n",
    "        progress_bar = tqdm(train_loader, desc=f\"Epoch {epoch + 1}/{num_epochs}\")\n",
    "        model.train()\n",
    "        total_loss = 0\n",
    "        num_batches = 0\n",
    "        \n",
    "        for images, labels in progress_bar:\n",
    "            images = images.to(device)\n",
    "            labels = labels.to(device)\n",
    "            \n",
    "            noise = torch.randn_like(images)\n",
    "            t = torch.rand(images.size(0), device=device)\n",
    "            xt = (1 - t.view(-1, 1, 1, 1)) * noise + t.view(-1, 1, 1, 1) * images\n",
    "            \n",
    "            vt_pred = model(xt, t, labels)\n",
    "            loss = compute_loss(vt_pred, images - noise)\n",
    "            \n",
    "            optimizer.zero_grad()\n",
    "            loss.backward()\n",
    "            torch.nn.utils.clip_grad_norm_(model.parameters(), 1.0)\n",
    "            optimizer.step()\n",
    "            \n",
    "            total_loss += loss.item()\n",
    "            num_batches += 1\n",
    "            \n",
    "            progress_bar.set_postfix({\"Loss\": f\"{loss.item():.4f}\"})\n",
    "        \n",
    "        avg_loss = total_loss / num_batches\n",
    "        training_log.append({'epoch': epoch + 1, 'loss': avg_loss})\n",
    "        print(f\"Epoch {epoch + 1} - Average Loss: {avg_loss:.4f}\")\n",
    "        \n",
    "        # Save loss log\n",
    "        with open(os.path.join(RESULTS_DIR, 'training_log.json'), 'w') as f:\n",
    "            json.dump(training_log, f, indent=4)\n",
    "        \n",
    "        # Generate samples\n",
    "        if (epoch + 1) % 10 == 0 or epoch == 0:\n",
    "            visualize_train(epoch + 1)\n",
    "    \n",
    "    # Save model\n",
    "    torch.save(model.state_dict(), model_save_path)\n",
    "    print(f\"Training complete. Model saved to: {model_save_path}\")\n",
    "    \n",
    "    # Plot training curve\n",
    "    plot_training_curve(training_log)\n",
    "\n",
    "\n",
    "def plot_training_curve(training_log):\n",
    "    \"\"\"Plot and save training loss curve\"\"\"\n",
    "    epochs_list = [entry['epoch'] for entry in training_log]\n",
    "    losses = [entry['loss'] for entry in training_log]\n",
    "    \n",
    "    plt.figure(figsize=(10, 6))\n",
    "    plt.plot(epochs_list, losses, linewidth=2)\n",
    "    plt.xlabel('Epoch', fontsize=12)\n",
    "    plt.ylabel('Loss', fontsize=12)\n",
    "    plt.title(f'Training Loss - {EXPERIMENT_NAME}', fontsize=14)\n",
    "    plt.grid(True, alpha=0.3)\n",
    "    plt.savefig(os.path.join(RESULTS_DIR, 'training_curve.png'), dpi=150, bbox_inches='tight')\n",
    "    plt.close()\n",
    "    print(f\"Training curve saved to: {os.path.join(RESULTS_DIR, 'training_curve.png')}\")"
   ]
  },
  {
   "cell_type": "code",
   "execution_count": 18,
   "id": "f992655a",
   "metadata": {},
   "outputs": [
    {
     "name": "stdout",
     "output_type": "stream",
     "text": [
      "Dataset loaded: 50000 training images\n",
      "Image shape: 3 x 32 x 32\n",
      "Starting training for experiment: exp3\n",
      "Results will be saved to: results/exp3\n",
      "Configuration: {'experiment_name': 'exp3', 'lr': 0.0001, 'epochs': 100, 'batch_size': 128, 'base_channels': 128, 'time_embed_dim': 128, 'ode_method': 'dopri5', 'ode_steps': 50, 'loss_type': 'huber', 'norm_type': 'groupnorm', 'activation': 'silu', 'optimizer_type': 'adamw', 'image_size': 32, 'channels': 3, 'device': 'cuda'}\n"
     ]
    },
    {
     "name": "stderr",
     "output_type": "stream",
     "text": [
      "Epoch 1/100: 100%|██████████| 391/391 [06:58<00:00,  1.07s/it, Loss=0.1306]\n"
     ]
    },
    {
     "name": "stdout",
     "output_type": "stream",
     "text": [
      "Epoch 1 - Average Loss: 0.1404\n",
      "Generating visualization for epoch 1...\n"
     ]
    },
    {
     "name": "stderr",
     "output_type": "stream",
     "text": [
      "Epoch 2/100: 100%|██████████| 391/391 [07:01<00:00,  1.08s/it, Loss=0.0941]\n"
     ]
    },
    {
     "name": "stdout",
     "output_type": "stream",
     "text": [
      "Epoch 2 - Average Loss: 0.1080\n"
     ]
    },
    {
     "name": "stderr",
     "output_type": "stream",
     "text": [
      "Epoch 3/100: 100%|██████████| 391/391 [07:02<00:00,  1.08s/it, Loss=0.1070]\n"
     ]
    },
    {
     "name": "stdout",
     "output_type": "stream",
     "text": [
      "Epoch 3 - Average Loss: 0.1029\n"
     ]
    },
    {
     "name": "stderr",
     "output_type": "stream",
     "text": [
      "Epoch 4/100: 100%|██████████| 391/391 [07:02<00:00,  1.08s/it, Loss=0.1129]\n"
     ]
    },
    {
     "name": "stdout",
     "output_type": "stream",
     "text": [
      "Epoch 4 - Average Loss: 0.1006\n"
     ]
    },
    {
     "name": "stderr",
     "output_type": "stream",
     "text": [
      "Epoch 5/100: 100%|██████████| 391/391 [06:59<00:00,  1.07s/it, Loss=0.0920]\n"
     ]
    },
    {
     "name": "stdout",
     "output_type": "stream",
     "text": [
      "Epoch 5 - Average Loss: 0.0985\n"
     ]
    },
    {
     "name": "stderr",
     "output_type": "stream",
     "text": [
      "Epoch 6/100: 100%|██████████| 391/391 [07:02<00:00,  1.08s/it, Loss=0.0902]\n"
     ]
    },
    {
     "name": "stdout",
     "output_type": "stream",
     "text": [
      "Epoch 6 - Average Loss: 0.0976\n"
     ]
    },
    {
     "name": "stderr",
     "output_type": "stream",
     "text": [
      "Epoch 7/100: 100%|██████████| 391/391 [07:02<00:00,  1.08s/it, Loss=0.0954]\n"
     ]
    },
    {
     "name": "stdout",
     "output_type": "stream",
     "text": [
      "Epoch 7 - Average Loss: 0.0960\n"
     ]
    },
    {
     "name": "stderr",
     "output_type": "stream",
     "text": [
      "Epoch 8/100: 100%|██████████| 391/391 [06:55<00:00,  1.06s/it, Loss=0.0931]\n"
     ]
    },
    {
     "name": "stdout",
     "output_type": "stream",
     "text": [
      "Epoch 8 - Average Loss: 0.0959\n"
     ]
    },
    {
     "name": "stderr",
     "output_type": "stream",
     "text": [
      "Epoch 9/100: 100%|██████████| 391/391 [07:02<00:00,  1.08s/it, Loss=0.0948]\n"
     ]
    },
    {
     "name": "stdout",
     "output_type": "stream",
     "text": [
      "Epoch 9 - Average Loss: 0.0951\n"
     ]
    },
    {
     "name": "stderr",
     "output_type": "stream",
     "text": [
      "Epoch 10/100: 100%|██████████| 391/391 [06:58<00:00,  1.07s/it, Loss=0.0945]\n"
     ]
    },
    {
     "name": "stdout",
     "output_type": "stream",
     "text": [
      "Epoch 10 - Average Loss: 0.0946\n",
      "Generating visualization for epoch 10...\n"
     ]
    },
    {
     "name": "stderr",
     "output_type": "stream",
     "text": [
      "Epoch 11/100: 100%|██████████| 391/391 [06:57<00:00,  1.07s/it, Loss=0.0909]\n"
     ]
    },
    {
     "name": "stdout",
     "output_type": "stream",
     "text": [
      "Epoch 11 - Average Loss: 0.0938\n"
     ]
    },
    {
     "name": "stderr",
     "output_type": "stream",
     "text": [
      "Epoch 12/100: 100%|██████████| 391/391 [07:02<00:00,  1.08s/it, Loss=0.0982]\n"
     ]
    },
    {
     "name": "stdout",
     "output_type": "stream",
     "text": [
      "Epoch 12 - Average Loss: 0.0934\n"
     ]
    },
    {
     "name": "stderr",
     "output_type": "stream",
     "text": [
      "Epoch 13/100: 100%|██████████| 391/391 [07:02<00:00,  1.08s/it, Loss=0.0893]\n"
     ]
    },
    {
     "name": "stdout",
     "output_type": "stream",
     "text": [
      "Epoch 13 - Average Loss: 0.0932\n"
     ]
    },
    {
     "name": "stderr",
     "output_type": "stream",
     "text": [
      "Epoch 14/100: 100%|██████████| 391/391 [06:58<00:00,  1.07s/it, Loss=0.1001]\n"
     ]
    },
    {
     "name": "stdout",
     "output_type": "stream",
     "text": [
      "Epoch 14 - Average Loss: 0.0927\n"
     ]
    },
    {
     "name": "stderr",
     "output_type": "stream",
     "text": [
      "Epoch 15/100: 100%|██████████| 391/391 [07:02<00:00,  1.08s/it, Loss=0.0924]\n"
     ]
    },
    {
     "name": "stdout",
     "output_type": "stream",
     "text": [
      "Epoch 15 - Average Loss: 0.0930\n"
     ]
    },
    {
     "name": "stderr",
     "output_type": "stream",
     "text": [
      "Epoch 16/100: 100%|██████████| 391/391 [07:02<00:00,  1.08s/it, Loss=0.0910]\n"
     ]
    },
    {
     "name": "stdout",
     "output_type": "stream",
     "text": [
      "Epoch 16 - Average Loss: 0.0925\n"
     ]
    },
    {
     "name": "stderr",
     "output_type": "stream",
     "text": [
      "Epoch 17/100: 100%|██████████| 391/391 [06:58<00:00,  1.07s/it, Loss=0.0953]\n"
     ]
    },
    {
     "name": "stdout",
     "output_type": "stream",
     "text": [
      "Epoch 17 - Average Loss: 0.0920\n"
     ]
    },
    {
     "name": "stderr",
     "output_type": "stream",
     "text": [
      "Epoch 18/100: 100%|██████████| 391/391 [06:54<00:00,  1.06s/it, Loss=0.0910]\n"
     ]
    },
    {
     "name": "stdout",
     "output_type": "stream",
     "text": [
      "Epoch 18 - Average Loss: 0.0915\n"
     ]
    },
    {
     "name": "stderr",
     "output_type": "stream",
     "text": [
      "Epoch 19/100: 100%|██████████| 391/391 [06:57<00:00,  1.07s/it, Loss=0.0957]\n"
     ]
    },
    {
     "name": "stdout",
     "output_type": "stream",
     "text": [
      "Epoch 19 - Average Loss: 0.0919\n"
     ]
    },
    {
     "name": "stderr",
     "output_type": "stream",
     "text": [
      "Epoch 20/100: 100%|██████████| 391/391 [07:00<00:00,  1.08s/it, Loss=0.0899]\n"
     ]
    },
    {
     "name": "stdout",
     "output_type": "stream",
     "text": [
      "Epoch 20 - Average Loss: 0.0916\n",
      "Generating visualization for epoch 20...\n"
     ]
    },
    {
     "name": "stderr",
     "output_type": "stream",
     "text": [
      "Epoch 21/100: 100%|██████████| 391/391 [06:54<00:00,  1.06s/it, Loss=0.0995]\n"
     ]
    },
    {
     "name": "stdout",
     "output_type": "stream",
     "text": [
      "Epoch 21 - Average Loss: 0.0917\n"
     ]
    },
    {
     "name": "stderr",
     "output_type": "stream",
     "text": [
      "Epoch 22/100: 100%|██████████| 391/391 [06:58<00:00,  1.07s/it, Loss=0.0912]\n"
     ]
    },
    {
     "name": "stdout",
     "output_type": "stream",
     "text": [
      "Epoch 22 - Average Loss: 0.0912\n"
     ]
    },
    {
     "name": "stderr",
     "output_type": "stream",
     "text": [
      "Epoch 23/100: 100%|██████████| 391/391 [06:56<00:00,  1.06s/it, Loss=0.0880]\n"
     ]
    },
    {
     "name": "stdout",
     "output_type": "stream",
     "text": [
      "Epoch 23 - Average Loss: 0.0912\n"
     ]
    },
    {
     "name": "stderr",
     "output_type": "stream",
     "text": [
      "Epoch 24/100: 100%|██████████| 391/391 [07:00<00:00,  1.08s/it, Loss=0.0888]\n"
     ]
    },
    {
     "name": "stdout",
     "output_type": "stream",
     "text": [
      "Epoch 24 - Average Loss: 0.0906\n"
     ]
    },
    {
     "name": "stderr",
     "output_type": "stream",
     "text": [
      "Epoch 25/100: 100%|██████████| 391/391 [07:00<00:00,  1.07s/it, Loss=0.0867]\n"
     ]
    },
    {
     "name": "stdout",
     "output_type": "stream",
     "text": [
      "Epoch 25 - Average Loss: 0.0913\n"
     ]
    },
    {
     "name": "stderr",
     "output_type": "stream",
     "text": [
      "Epoch 26/100: 100%|██████████| 391/391 [06:59<00:00,  1.07s/it, Loss=0.0869]\n"
     ]
    },
    {
     "name": "stdout",
     "output_type": "stream",
     "text": [
      "Epoch 26 - Average Loss: 0.0907\n"
     ]
    },
    {
     "name": "stderr",
     "output_type": "stream",
     "text": [
      "Epoch 27/100: 100%|██████████| 391/391 [06:49<00:00,  1.05s/it, Loss=0.0881]\n"
     ]
    },
    {
     "name": "stdout",
     "output_type": "stream",
     "text": [
      "Epoch 27 - Average Loss: 0.0910\n"
     ]
    },
    {
     "name": "stderr",
     "output_type": "stream",
     "text": [
      "Epoch 28/100: 100%|██████████| 391/391 [07:00<00:00,  1.07s/it, Loss=0.0900]\n"
     ]
    },
    {
     "name": "stdout",
     "output_type": "stream",
     "text": [
      "Epoch 28 - Average Loss: 0.0909\n"
     ]
    },
    {
     "name": "stderr",
     "output_type": "stream",
     "text": [
      "Epoch 29/100: 100%|██████████| 391/391 [07:00<00:00,  1.07s/it, Loss=0.0896]\n"
     ]
    },
    {
     "name": "stdout",
     "output_type": "stream",
     "text": [
      "Epoch 29 - Average Loss: 0.0905\n"
     ]
    },
    {
     "name": "stderr",
     "output_type": "stream",
     "text": [
      "Epoch 30/100: 100%|██████████| 391/391 [06:59<00:00,  1.07s/it, Loss=0.0963]\n"
     ]
    },
    {
     "name": "stdout",
     "output_type": "stream",
     "text": [
      "Epoch 30 - Average Loss: 0.0900\n",
      "Generating visualization for epoch 30...\n"
     ]
    },
    {
     "name": "stderr",
     "output_type": "stream",
     "text": [
      "Epoch 31/100: 100%|██████████| 391/391 [06:54<00:00,  1.06s/it, Loss=0.1029]\n"
     ]
    },
    {
     "name": "stdout",
     "output_type": "stream",
     "text": [
      "Epoch 31 - Average Loss: 0.0904\n"
     ]
    },
    {
     "name": "stderr",
     "output_type": "stream",
     "text": [
      "Epoch 32/100: 100%|██████████| 391/391 [06:53<00:00,  1.06s/it, Loss=0.0908]\n"
     ]
    },
    {
     "name": "stdout",
     "output_type": "stream",
     "text": [
      "Epoch 32 - Average Loss: 0.0899\n"
     ]
    },
    {
     "name": "stderr",
     "output_type": "stream",
     "text": [
      "Epoch 33/100: 100%|██████████| 391/391 [06:59<00:00,  1.07s/it, Loss=0.0817]\n"
     ]
    },
    {
     "name": "stdout",
     "output_type": "stream",
     "text": [
      "Epoch 33 - Average Loss: 0.0902\n"
     ]
    },
    {
     "name": "stderr",
     "output_type": "stream",
     "text": [
      "Epoch 34/100: 100%|██████████| 391/391 [06:59<00:00,  1.07s/it, Loss=0.0837]\n"
     ]
    },
    {
     "name": "stdout",
     "output_type": "stream",
     "text": [
      "Epoch 34 - Average Loss: 0.0898\n"
     ]
    },
    {
     "name": "stderr",
     "output_type": "stream",
     "text": [
      "Epoch 35/100: 100%|██████████| 391/391 [07:00<00:00,  1.07s/it, Loss=0.0908]\n"
     ]
    },
    {
     "name": "stdout",
     "output_type": "stream",
     "text": [
      "Epoch 35 - Average Loss: 0.0899\n"
     ]
    },
    {
     "name": "stderr",
     "output_type": "stream",
     "text": [
      "Epoch 36/100: 100%|██████████| 391/391 [06:55<00:00,  1.06s/it, Loss=0.0820]\n"
     ]
    },
    {
     "name": "stdout",
     "output_type": "stream",
     "text": [
      "Epoch 36 - Average Loss: 0.0896\n"
     ]
    },
    {
     "name": "stderr",
     "output_type": "stream",
     "text": [
      "Epoch 37/100: 100%|██████████| 391/391 [06:52<00:00,  1.06s/it, Loss=0.0909]\n"
     ]
    },
    {
     "name": "stdout",
     "output_type": "stream",
     "text": [
      "Epoch 37 - Average Loss: 0.0901\n"
     ]
    },
    {
     "name": "stderr",
     "output_type": "stream",
     "text": [
      "Epoch 38/100: 100%|██████████| 391/391 [06:59<00:00,  1.07s/it, Loss=0.0906]\n"
     ]
    },
    {
     "name": "stdout",
     "output_type": "stream",
     "text": [
      "Epoch 38 - Average Loss: 0.0894\n"
     ]
    },
    {
     "name": "stderr",
     "output_type": "stream",
     "text": [
      "Epoch 39/100: 100%|██████████| 391/391 [06:58<00:00,  1.07s/it, Loss=0.0839]\n"
     ]
    },
    {
     "name": "stdout",
     "output_type": "stream",
     "text": [
      "Epoch 39 - Average Loss: 0.0893\n"
     ]
    },
    {
     "name": "stderr",
     "output_type": "stream",
     "text": [
      "Epoch 40/100: 100%|██████████| 391/391 [06:59<00:00,  1.07s/it, Loss=0.0955]\n"
     ]
    },
    {
     "name": "stdout",
     "output_type": "stream",
     "text": [
      "Epoch 40 - Average Loss: 0.0893\n",
      "Generating visualization for epoch 40...\n"
     ]
    },
    {
     "name": "stderr",
     "output_type": "stream",
     "text": [
      "Epoch 41/100: 100%|██████████| 391/391 [06:20<00:00,  1.03it/s, Loss=0.0787]\n"
     ]
    },
    {
     "name": "stdout",
     "output_type": "stream",
     "text": [
      "Epoch 41 - Average Loss: 0.0890\n"
     ]
    },
    {
     "name": "stderr",
     "output_type": "stream",
     "text": [
      "Epoch 42/100: 100%|██████████| 391/391 [05:15<00:00,  1.24it/s, Loss=0.0923]\n"
     ]
    },
    {
     "name": "stdout",
     "output_type": "stream",
     "text": [
      "Epoch 42 - Average Loss: 0.0895\n"
     ]
    },
    {
     "name": "stderr",
     "output_type": "stream",
     "text": [
      "Epoch 43/100: 100%|██████████| 391/391 [05:16<00:00,  1.23it/s, Loss=0.0843]\n"
     ]
    },
    {
     "name": "stdout",
     "output_type": "stream",
     "text": [
      "Epoch 43 - Average Loss: 0.0887\n"
     ]
    },
    {
     "name": "stderr",
     "output_type": "stream",
     "text": [
      "Epoch 44/100: 100%|██████████| 391/391 [05:17<00:00,  1.23it/s, Loss=0.0874]\n"
     ]
    },
    {
     "name": "stdout",
     "output_type": "stream",
     "text": [
      "Epoch 44 - Average Loss: 0.0895\n"
     ]
    },
    {
     "name": "stderr",
     "output_type": "stream",
     "text": [
      "Epoch 45/100: 100%|██████████| 391/391 [05:16<00:00,  1.24it/s, Loss=0.0932]\n"
     ]
    },
    {
     "name": "stdout",
     "output_type": "stream",
     "text": [
      "Epoch 45 - Average Loss: 0.0893\n"
     ]
    },
    {
     "name": "stderr",
     "output_type": "stream",
     "text": [
      "Epoch 46/100: 100%|██████████| 391/391 [05:16<00:00,  1.24it/s, Loss=0.0936]\n"
     ]
    },
    {
     "name": "stdout",
     "output_type": "stream",
     "text": [
      "Epoch 46 - Average Loss: 0.0888\n"
     ]
    },
    {
     "name": "stderr",
     "output_type": "stream",
     "text": [
      "Epoch 47/100: 100%|██████████| 391/391 [05:09<00:00,  1.26it/s, Loss=0.0794]\n"
     ]
    },
    {
     "name": "stdout",
     "output_type": "stream",
     "text": [
      "Epoch 47 - Average Loss: 0.0886\n"
     ]
    },
    {
     "name": "stderr",
     "output_type": "stream",
     "text": [
      "Epoch 48/100: 100%|██████████| 391/391 [05:16<00:00,  1.23it/s, Loss=0.0857]\n"
     ]
    },
    {
     "name": "stdout",
     "output_type": "stream",
     "text": [
      "Epoch 48 - Average Loss: 0.0892\n"
     ]
    },
    {
     "name": "stderr",
     "output_type": "stream",
     "text": [
      "Epoch 49/100: 100%|██████████| 391/391 [05:16<00:00,  1.24it/s, Loss=0.0926]\n"
     ]
    },
    {
     "name": "stdout",
     "output_type": "stream",
     "text": [
      "Epoch 49 - Average Loss: 0.0888\n"
     ]
    },
    {
     "name": "stderr",
     "output_type": "stream",
     "text": [
      "Epoch 50/100: 100%|██████████| 391/391 [05:16<00:00,  1.24it/s, Loss=0.0873]\n"
     ]
    },
    {
     "name": "stdout",
     "output_type": "stream",
     "text": [
      "Epoch 50 - Average Loss: 0.0891\n",
      "Generating visualization for epoch 50...\n"
     ]
    },
    {
     "name": "stderr",
     "output_type": "stream",
     "text": [
      "Epoch 51/100: 100%|██████████| 391/391 [05:10<00:00,  1.26it/s, Loss=0.0937]\n"
     ]
    },
    {
     "name": "stdout",
     "output_type": "stream",
     "text": [
      "Epoch 51 - Average Loss: 0.0889\n"
     ]
    },
    {
     "name": "stderr",
     "output_type": "stream",
     "text": [
      "Epoch 52/100: 100%|██████████| 391/391 [05:14<00:00,  1.24it/s, Loss=0.0947]\n"
     ]
    },
    {
     "name": "stdout",
     "output_type": "stream",
     "text": [
      "Epoch 52 - Average Loss: 0.0888\n"
     ]
    },
    {
     "name": "stderr",
     "output_type": "stream",
     "text": [
      "Epoch 53/100: 100%|██████████| 391/391 [05:16<00:00,  1.24it/s, Loss=0.0990]\n"
     ]
    },
    {
     "name": "stdout",
     "output_type": "stream",
     "text": [
      "Epoch 53 - Average Loss: 0.0887\n"
     ]
    },
    {
     "name": "stderr",
     "output_type": "stream",
     "text": [
      "Epoch 54/100: 100%|██████████| 391/391 [05:16<00:00,  1.23it/s, Loss=0.0893]\n"
     ]
    },
    {
     "name": "stdout",
     "output_type": "stream",
     "text": [
      "Epoch 54 - Average Loss: 0.0888\n"
     ]
    },
    {
     "name": "stderr",
     "output_type": "stream",
     "text": [
      "Epoch 55/100: 100%|██████████| 391/391 [05:16<00:00,  1.24it/s, Loss=0.0911]\n"
     ]
    },
    {
     "name": "stdout",
     "output_type": "stream",
     "text": [
      "Epoch 55 - Average Loss: 0.0886\n"
     ]
    },
    {
     "name": "stderr",
     "output_type": "stream",
     "text": [
      "Epoch 56/100: 100%|██████████| 391/391 [05:16<00:00,  1.24it/s, Loss=0.0810]\n"
     ]
    },
    {
     "name": "stdout",
     "output_type": "stream",
     "text": [
      "Epoch 56 - Average Loss: 0.0887\n"
     ]
    },
    {
     "name": "stderr",
     "output_type": "stream",
     "text": [
      "Epoch 57/100: 100%|██████████| 391/391 [05:09<00:00,  1.26it/s, Loss=0.0888]\n"
     ]
    },
    {
     "name": "stdout",
     "output_type": "stream",
     "text": [
      "Epoch 57 - Average Loss: 0.0886\n"
     ]
    },
    {
     "name": "stderr",
     "output_type": "stream",
     "text": [
      "Epoch 58/100: 100%|██████████| 391/391 [05:16<00:00,  1.24it/s, Loss=0.0934]\n"
     ]
    },
    {
     "name": "stdout",
     "output_type": "stream",
     "text": [
      "Epoch 58 - Average Loss: 0.0882\n"
     ]
    },
    {
     "name": "stderr",
     "output_type": "stream",
     "text": [
      "Epoch 59/100: 100%|██████████| 391/391 [05:16<00:00,  1.24it/s, Loss=0.0860]\n"
     ]
    },
    {
     "name": "stdout",
     "output_type": "stream",
     "text": [
      "Epoch 59 - Average Loss: 0.0885\n"
     ]
    },
    {
     "name": "stderr",
     "output_type": "stream",
     "text": [
      "Epoch 60/100: 100%|██████████| 391/391 [05:16<00:00,  1.24it/s, Loss=0.0872]\n"
     ]
    },
    {
     "name": "stdout",
     "output_type": "stream",
     "text": [
      "Epoch 60 - Average Loss: 0.0880\n",
      "Generating visualization for epoch 60...\n"
     ]
    },
    {
     "name": "stderr",
     "output_type": "stream",
     "text": [
      "Epoch 61/100: 100%|██████████| 391/391 [05:09<00:00,  1.26it/s, Loss=0.0914]\n"
     ]
    },
    {
     "name": "stdout",
     "output_type": "stream",
     "text": [
      "Epoch 61 - Average Loss: 0.0884\n"
     ]
    },
    {
     "name": "stderr",
     "output_type": "stream",
     "text": [
      "Epoch 62/100: 100%|██████████| 391/391 [05:14<00:00,  1.24it/s, Loss=0.0784]\n"
     ]
    },
    {
     "name": "stdout",
     "output_type": "stream",
     "text": [
      "Epoch 62 - Average Loss: 0.0879\n"
     ]
    },
    {
     "name": "stderr",
     "output_type": "stream",
     "text": [
      "Epoch 63/100: 100%|██████████| 391/391 [05:15<00:00,  1.24it/s, Loss=0.0894]\n"
     ]
    },
    {
     "name": "stdout",
     "output_type": "stream",
     "text": [
      "Epoch 63 - Average Loss: 0.0881\n"
     ]
    },
    {
     "name": "stderr",
     "output_type": "stream",
     "text": [
      "Epoch 64/100: 100%|██████████| 391/391 [05:15<00:00,  1.24it/s, Loss=0.0896]\n"
     ]
    },
    {
     "name": "stdout",
     "output_type": "stream",
     "text": [
      "Epoch 64 - Average Loss: 0.0881\n"
     ]
    },
    {
     "name": "stderr",
     "output_type": "stream",
     "text": [
      "Epoch 65/100: 100%|██████████| 391/391 [05:15<00:00,  1.24it/s, Loss=0.1093]\n"
     ]
    },
    {
     "name": "stdout",
     "output_type": "stream",
     "text": [
      "Epoch 65 - Average Loss: 0.0880\n"
     ]
    },
    {
     "name": "stderr",
     "output_type": "stream",
     "text": [
      "Epoch 66/100: 100%|██████████| 391/391 [05:16<00:00,  1.24it/s, Loss=0.0786]\n"
     ]
    },
    {
     "name": "stdout",
     "output_type": "stream",
     "text": [
      "Epoch 66 - Average Loss: 0.0878\n"
     ]
    },
    {
     "name": "stderr",
     "output_type": "stream",
     "text": [
      "Epoch 67/100: 100%|██████████| 391/391 [05:08<00:00,  1.27it/s, Loss=0.0922]\n"
     ]
    },
    {
     "name": "stdout",
     "output_type": "stream",
     "text": [
      "Epoch 67 - Average Loss: 0.0883\n"
     ]
    },
    {
     "name": "stderr",
     "output_type": "stream",
     "text": [
      "Epoch 68/100: 100%|██████████| 391/391 [05:15<00:00,  1.24it/s, Loss=0.1018]\n"
     ]
    },
    {
     "name": "stdout",
     "output_type": "stream",
     "text": [
      "Epoch 68 - Average Loss: 0.0878\n"
     ]
    },
    {
     "name": "stderr",
     "output_type": "stream",
     "text": [
      "Epoch 69/100: 100%|██████████| 391/391 [05:15<00:00,  1.24it/s, Loss=0.0983]\n"
     ]
    },
    {
     "name": "stdout",
     "output_type": "stream",
     "text": [
      "Epoch 69 - Average Loss: 0.0881\n"
     ]
    },
    {
     "name": "stderr",
     "output_type": "stream",
     "text": [
      "Epoch 70/100: 100%|██████████| 391/391 [05:15<00:00,  1.24it/s, Loss=0.0796]\n"
     ]
    },
    {
     "name": "stdout",
     "output_type": "stream",
     "text": [
      "Epoch 70 - Average Loss: 0.0880\n",
      "Generating visualization for epoch 70...\n"
     ]
    },
    {
     "name": "stderr",
     "output_type": "stream",
     "text": [
      "Epoch 71/100: 100%|██████████| 391/391 [05:08<00:00,  1.27it/s, Loss=0.0847]\n"
     ]
    },
    {
     "name": "stdout",
     "output_type": "stream",
     "text": [
      "Epoch 71 - Average Loss: 0.0879\n"
     ]
    },
    {
     "name": "stderr",
     "output_type": "stream",
     "text": [
      "Epoch 72/100: 100%|██████████| 391/391 [05:14<00:00,  1.24it/s, Loss=0.0927]\n"
     ]
    },
    {
     "name": "stdout",
     "output_type": "stream",
     "text": [
      "Epoch 72 - Average Loss: 0.0877\n"
     ]
    },
    {
     "name": "stderr",
     "output_type": "stream",
     "text": [
      "Epoch 73/100: 100%|██████████| 391/391 [05:15<00:00,  1.24it/s, Loss=0.0866]\n"
     ]
    },
    {
     "name": "stdout",
     "output_type": "stream",
     "text": [
      "Epoch 73 - Average Loss: 0.0878\n"
     ]
    },
    {
     "name": "stderr",
     "output_type": "stream",
     "text": [
      "Epoch 74/100: 100%|██████████| 391/391 [05:15<00:00,  1.24it/s, Loss=0.0855]\n"
     ]
    },
    {
     "name": "stdout",
     "output_type": "stream",
     "text": [
      "Epoch 74 - Average Loss: 0.0880\n"
     ]
    },
    {
     "name": "stderr",
     "output_type": "stream",
     "text": [
      "Epoch 75/100: 100%|██████████| 391/391 [05:15<00:00,  1.24it/s, Loss=0.0916]\n"
     ]
    },
    {
     "name": "stdout",
     "output_type": "stream",
     "text": [
      "Epoch 75 - Average Loss: 0.0882\n"
     ]
    },
    {
     "name": "stderr",
     "output_type": "stream",
     "text": [
      "Epoch 76/100: 100%|██████████| 391/391 [05:15<00:00,  1.24it/s, Loss=0.0822]\n"
     ]
    },
    {
     "name": "stdout",
     "output_type": "stream",
     "text": [
      "Epoch 76 - Average Loss: 0.0878\n"
     ]
    },
    {
     "name": "stderr",
     "output_type": "stream",
     "text": [
      "Epoch 77/100: 100%|██████████| 391/391 [05:08<00:00,  1.27it/s, Loss=0.0826]\n"
     ]
    },
    {
     "name": "stdout",
     "output_type": "stream",
     "text": [
      "Epoch 77 - Average Loss: 0.0877\n"
     ]
    },
    {
     "name": "stderr",
     "output_type": "stream",
     "text": [
      "Epoch 78/100: 100%|██████████| 391/391 [05:14<00:00,  1.24it/s, Loss=0.0930]\n"
     ]
    },
    {
     "name": "stdout",
     "output_type": "stream",
     "text": [
      "Epoch 78 - Average Loss: 0.0877\n"
     ]
    },
    {
     "name": "stderr",
     "output_type": "stream",
     "text": [
      "Epoch 79/100: 100%|██████████| 391/391 [05:14<00:00,  1.24it/s, Loss=0.0949]\n"
     ]
    },
    {
     "name": "stdout",
     "output_type": "stream",
     "text": [
      "Epoch 79 - Average Loss: 0.0874\n"
     ]
    },
    {
     "name": "stderr",
     "output_type": "stream",
     "text": [
      "Epoch 80/100: 100%|██████████| 391/391 [05:15<00:00,  1.24it/s, Loss=0.0868]\n"
     ]
    },
    {
     "name": "stdout",
     "output_type": "stream",
     "text": [
      "Epoch 80 - Average Loss: 0.0876\n",
      "Generating visualization for epoch 80...\n"
     ]
    },
    {
     "name": "stderr",
     "output_type": "stream",
     "text": [
      "Epoch 81/100: 100%|██████████| 391/391 [05:08<00:00,  1.27it/s, Loss=0.0848]\n"
     ]
    },
    {
     "name": "stdout",
     "output_type": "stream",
     "text": [
      "Epoch 81 - Average Loss: 0.0878\n"
     ]
    },
    {
     "name": "stderr",
     "output_type": "stream",
     "text": [
      "Epoch 82/100: 100%|██████████| 391/391 [05:13<00:00,  1.25it/s, Loss=0.0908]\n"
     ]
    },
    {
     "name": "stdout",
     "output_type": "stream",
     "text": [
      "Epoch 82 - Average Loss: 0.0875\n"
     ]
    },
    {
     "name": "stderr",
     "output_type": "stream",
     "text": [
      "Epoch 83/100: 100%|██████████| 391/391 [05:14<00:00,  1.24it/s, Loss=0.0899]\n"
     ]
    },
    {
     "name": "stdout",
     "output_type": "stream",
     "text": [
      "Epoch 83 - Average Loss: 0.0874\n"
     ]
    },
    {
     "name": "stderr",
     "output_type": "stream",
     "text": [
      "Epoch 84/100: 100%|██████████| 391/391 [05:14<00:00,  1.24it/s, Loss=0.0855]\n"
     ]
    },
    {
     "name": "stdout",
     "output_type": "stream",
     "text": [
      "Epoch 84 - Average Loss: 0.0874\n"
     ]
    },
    {
     "name": "stderr",
     "output_type": "stream",
     "text": [
      "Epoch 85/100: 100%|██████████| 391/391 [05:14<00:00,  1.24it/s, Loss=0.0852]\n"
     ]
    },
    {
     "name": "stdout",
     "output_type": "stream",
     "text": [
      "Epoch 85 - Average Loss: 0.0873\n"
     ]
    },
    {
     "name": "stderr",
     "output_type": "stream",
     "text": [
      "Epoch 86/100: 100%|██████████| 391/391 [05:14<00:00,  1.24it/s, Loss=0.0814]\n"
     ]
    },
    {
     "name": "stdout",
     "output_type": "stream",
     "text": [
      "Epoch 86 - Average Loss: 0.0875\n"
     ]
    },
    {
     "name": "stderr",
     "output_type": "stream",
     "text": [
      "Epoch 87/100: 100%|██████████| 391/391 [05:07<00:00,  1.27it/s, Loss=0.0983]\n"
     ]
    },
    {
     "name": "stdout",
     "output_type": "stream",
     "text": [
      "Epoch 87 - Average Loss: 0.0873\n"
     ]
    },
    {
     "name": "stderr",
     "output_type": "stream",
     "text": [
      "Epoch 88/100: 100%|██████████| 391/391 [05:14<00:00,  1.24it/s, Loss=0.0758]\n"
     ]
    },
    {
     "name": "stdout",
     "output_type": "stream",
     "text": [
      "Epoch 88 - Average Loss: 0.0874\n"
     ]
    },
    {
     "name": "stderr",
     "output_type": "stream",
     "text": [
      "Epoch 89/100: 100%|██████████| 391/391 [05:14<00:00,  1.24it/s, Loss=0.0800]\n"
     ]
    },
    {
     "name": "stdout",
     "output_type": "stream",
     "text": [
      "Epoch 89 - Average Loss: 0.0874\n"
     ]
    },
    {
     "name": "stderr",
     "output_type": "stream",
     "text": [
      "Epoch 90/100: 100%|██████████| 391/391 [05:14<00:00,  1.24it/s, Loss=0.0890]\n"
     ]
    },
    {
     "name": "stdout",
     "output_type": "stream",
     "text": [
      "Epoch 90 - Average Loss: 0.0873\n",
      "Generating visualization for epoch 90...\n"
     ]
    },
    {
     "name": "stderr",
     "output_type": "stream",
     "text": [
      "Epoch 91/100: 100%|██████████| 391/391 [05:08<00:00,  1.27it/s, Loss=0.0963]\n"
     ]
    },
    {
     "name": "stdout",
     "output_type": "stream",
     "text": [
      "Epoch 91 - Average Loss: 0.0870\n"
     ]
    },
    {
     "name": "stderr",
     "output_type": "stream",
     "text": [
      "Epoch 92/100: 100%|██████████| 391/391 [04:33<00:00,  1.43it/s, Loss=0.0907]\n"
     ]
    },
    {
     "name": "stdout",
     "output_type": "stream",
     "text": [
      "Epoch 92 - Average Loss: 0.0869\n"
     ]
    },
    {
     "name": "stderr",
     "output_type": "stream",
     "text": [
      "Epoch 93/100: 100%|██████████| 391/391 [03:26<00:00,  1.89it/s, Loss=0.0822]\n"
     ]
    },
    {
     "name": "stdout",
     "output_type": "stream",
     "text": [
      "Epoch 93 - Average Loss: 0.0872\n"
     ]
    },
    {
     "name": "stderr",
     "output_type": "stream",
     "text": [
      "Epoch 94/100: 100%|██████████| 391/391 [03:25<00:00,  1.90it/s, Loss=0.0911]\n"
     ]
    },
    {
     "name": "stdout",
     "output_type": "stream",
     "text": [
      "Epoch 94 - Average Loss: 0.0871\n"
     ]
    },
    {
     "name": "stderr",
     "output_type": "stream",
     "text": [
      "Epoch 95/100: 100%|██████████| 391/391 [03:25<00:00,  1.90it/s, Loss=0.0889]\n"
     ]
    },
    {
     "name": "stdout",
     "output_type": "stream",
     "text": [
      "Epoch 95 - Average Loss: 0.0872\n"
     ]
    },
    {
     "name": "stderr",
     "output_type": "stream",
     "text": [
      "Epoch 96/100: 100%|██████████| 391/391 [03:25<00:00,  1.90it/s, Loss=0.0895]\n"
     ]
    },
    {
     "name": "stdout",
     "output_type": "stream",
     "text": [
      "Epoch 96 - Average Loss: 0.0872\n"
     ]
    },
    {
     "name": "stderr",
     "output_type": "stream",
     "text": [
      "Epoch 97/100: 100%|██████████| 391/391 [02:47<00:00,  2.33it/s, Loss=0.0870]\n"
     ]
    },
    {
     "name": "stdout",
     "output_type": "stream",
     "text": [
      "Epoch 97 - Average Loss: 0.0869\n"
     ]
    },
    {
     "name": "stderr",
     "output_type": "stream",
     "text": [
      "Epoch 98/100: 100%|██████████| 391/391 [01:43<00:00,  3.77it/s, Loss=0.0877]\n"
     ]
    },
    {
     "name": "stdout",
     "output_type": "stream",
     "text": [
      "Epoch 98 - Average Loss: 0.0869\n"
     ]
    },
    {
     "name": "stderr",
     "output_type": "stream",
     "text": [
      "Epoch 99/100: 100%|██████████| 391/391 [01:34<00:00,  4.14it/s, Loss=0.0849]\n"
     ]
    },
    {
     "name": "stdout",
     "output_type": "stream",
     "text": [
      "Epoch 99 - Average Loss: 0.0868\n"
     ]
    },
    {
     "name": "stderr",
     "output_type": "stream",
     "text": [
      "Epoch 100/100: 100%|██████████| 391/391 [01:34<00:00,  4.14it/s, Loss=0.0820]\n"
     ]
    },
    {
     "name": "stdout",
     "output_type": "stream",
     "text": [
      "Epoch 100 - Average Loss: 0.0869\n",
      "Generating visualization for epoch 100...\n",
      "Training complete. Model saved to: results/exp3/FMmodel.pth\n",
      "Training curve saved to: results/exp3/training_curve.png\n",
      "Generating 5 final sample grids...\n",
      "Generating grid 1/5...\n"
     ]
    },
    {
     "name": "stderr",
     "output_type": "stream",
     "text": [
      "Grid 1: 100%|██████████| 10/10 [00:12<00:00,  1.25s/it]\n"
     ]
    },
    {
     "name": "stdout",
     "output_type": "stream",
     "text": [
      "Saved: results/exp3/generated_grid1.jpg\n",
      "Generating grid 2/5...\n"
     ]
    },
    {
     "name": "stderr",
     "output_type": "stream",
     "text": [
      "Grid 2: 100%|██████████| 10/10 [00:11<00:00,  1.18s/it]\n"
     ]
    },
    {
     "name": "stdout",
     "output_type": "stream",
     "text": [
      "Saved: results/exp3/generated_grid2.jpg\n",
      "Generating grid 3/5...\n"
     ]
    },
    {
     "name": "stderr",
     "output_type": "stream",
     "text": [
      "Grid 3: 100%|██████████| 10/10 [00:11<00:00,  1.17s/it]\n"
     ]
    },
    {
     "name": "stdout",
     "output_type": "stream",
     "text": [
      "Saved: results/exp3/generated_grid3.jpg\n",
      "Generating grid 4/5...\n"
     ]
    },
    {
     "name": "stderr",
     "output_type": "stream",
     "text": [
      "Grid 4: 100%|██████████| 10/10 [00:12<00:00,  1.23s/it]\n"
     ]
    },
    {
     "name": "stdout",
     "output_type": "stream",
     "text": [
      "Saved: results/exp3/generated_grid4.jpg\n",
      "Generating grid 5/5...\n"
     ]
    },
    {
     "name": "stderr",
     "output_type": "stream",
     "text": [
      "Grid 5: 100%|██████████| 10/10 [00:11<00:00,  1.15s/it]\n"
     ]
    },
    {
     "name": "stdout",
     "output_type": "stream",
     "text": [
      "Saved: results/exp3/generated_grid5.jpg\n",
      "\n",
      "Experiment 'exp3' completed!\n",
      "All results saved in: results/exp3\n"
     ]
    }
   ],
   "source": [
    "# Load CIFAR-10\n",
    "train_dataset = torchvision.datasets.CIFAR10(\n",
    "    root='./data', train=True, download=True, transform=transform)\n",
    "train_loader = DataLoader(train_dataset, batch_size=batch_size, shuffle=True,\n",
    "                            num_workers=4, pin_memory=True)\n",
    "\n",
    "print(f\"Dataset loaded: {len(train_dataset)} training images\")\n",
    "print(f\"Image shape: {channels} x {image_size} x {image_size}\")\n",
    "\n",
    "# Train model\n",
    "train(epochs)\n",
    "\n",
    "# Generate final samples\n",
    "generate_final_samples(num_sample=5)\n",
    "\n",
    "print(f\"\\nExperiment '{EXPERIMENT_NAME}' completed!\")\n",
    "print(f\"All results saved in: {RESULTS_DIR}\")"
   ]
  },
  {
   "cell_type": "code",
   "execution_count": null,
   "id": "4231bfab",
   "metadata": {},
   "outputs": [],
   "source": []
  },
  {
   "cell_type": "code",
   "execution_count": null,
   "id": "aad701a9",
   "metadata": {},
   "outputs": [],
   "source": []
  }
 ],
 "metadata": {
  "kernelspec": {
   "display_name": "myenv",
   "language": "python",
   "name": "python3"
  },
  "language_info": {
   "codemirror_mode": {
    "name": "ipython",
    "version": 3
   },
   "file_extension": ".py",
   "mimetype": "text/x-python",
   "name": "python",
   "nbconvert_exporter": "python",
   "pygments_lexer": "ipython3",
   "version": "3.10.18"
  }
 },
 "nbformat": 4,
 "nbformat_minor": 5
}
